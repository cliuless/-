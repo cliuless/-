{
 "cells": [
  {
   "cell_type": "code",
   "execution_count": null,
   "metadata": {},
   "outputs": [],
   "source": [
    "from selenium import webdriver\n",
    "from selenium.webdriver.common.keys import Keys\n",
    "import time\n",
    "import pandas as pd\n",
    "import numpy as np\n",
    "import os\n",
    "import wget"
   ]
  },
  {
   "cell_type": "code",
   "execution_count": null,
   "metadata": {},
   "outputs": [],
   "source": [
    "\n",
    "article_title = []\n",
    "article_date = []\n",
    "article_url = []\n",
    "\n",
    "\n",
    "# mv chrome driver from Downloads to Applications \n",
    "chromedriver = \"/Applications/chromedriver\"\n",
    "os.environ[\"webdriver.chrome.driver\"] = chromedriver\n",
    "\n",
    "\n",
    "driver = webdriver.Chrome(chromedriver)\n",
    "driver.get(\"http://chuansong.me/account/genderinchina\")\n",
    "\n",
    "\n",
    "for i in range(1,88):  #88 pages\n",
    "    links = driver.find_elements_by_class_name(\"question_link\")\n",
    "    dates = driver.find_elements_by_class_name(\"timestamp\")\n",
    "    article_date.extend([i.text for i in dates])\n",
    "    article_url.extend([i.get_attribute('href') for i in links])\n",
    "    article_title.extend([i.text for i in links])\n",
    "    next_page = driver.find_element_by_xpath('//div/a[contains(text(),\"下一页\")]')\n",
    "    next_page.click()"
   ]
  },
  {
   "cell_type": "code",
   "execution_count": null,
   "metadata": {},
   "outputs": [],
   "source": [
    "df = list(zip(article_date, article_url, article_title))\n",
    "df = pd.DataFrame(df,columns = ['Date', 'URL', 'Title'])\n",
    "df.to_pickle('chuansong_url.p')"
   ]
  }
 ],
 "metadata": {
  "kernelspec": {
   "display_name": "Python 3",
   "language": "python",
   "name": "python3"
  },
  "language_info": {
   "codemirror_mode": {
    "name": "ipython",
    "version": 3
   },
   "file_extension": ".py",
   "mimetype": "text/x-python",
   "name": "python",
   "nbconvert_exporter": "python",
   "pygments_lexer": "ipython3",
   "version": "3.6.4"
  }
 },
 "nbformat": 4,
 "nbformat_minor": 2
}
